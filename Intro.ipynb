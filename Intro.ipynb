{
 "cells": [
  {
   "cell_type": "markdown",
   "id": "e31615e0",
   "metadata": {},
   "source": [
    "# TESPy Introduction Tutorial\n",
    "\n",
    "- General approach: Solve system of equations based on every connection's\n",
    "  - mass flow $\\dot m$,\n",
    "  - pressure $p$,\n",
    "  - enthalpy $h$ and\n",
    "  - fluid composition $\\vec x_i$\n",
    "\n",
    "- All equations are applied implicitly $0=...$\n",
    "- Solver: Newton-Raphson method\n",
    "- Value manipulation to respect physical fluid property boundaries\n",
    "\n",
    "## Basic heat pump model\n",
    "\n",
    "![Topology](heat_pump_basic.svg)\n",
    "\n",
    "- Create a 4 component model of a heat pump using HeatExchangerSimple instances\n",
    "- Specification of process and component parameters\n",
    "- Fetch results\n",
    "- Implement Busses for heat input, heat output and power input"
   ]
  },
  {
   "cell_type": "code",
   "execution_count": null,
   "id": "4c6264c6",
   "metadata": {},
   "outputs": [],
   "source": []
  },
  {
   "cell_type": "markdown",
   "id": "ac106109",
   "metadata": {},
   "source": [
    "## Parameter influence: Temperature levels & Working fluid\n",
    "\n",
    "- Analysing parameter influence of temperature levels\n",
    "- Make the working fluid interchangable"
   ]
  },
  {
   "cell_type": "code",
   "execution_count": null,
   "id": "9485dcbd",
   "metadata": {},
   "outputs": [],
   "source": []
  },
  {
   "cell_type": "markdown",
   "id": "17a6a837",
   "metadata": {},
   "source": [
    "## Extend heat pump model with heat sink/source systems\n",
    "\n",
    "![Topology](heat_pump_extended.svg)\n",
    "\n",
    "\n",
    "- Add circulation system for consumer side\n",
    "- Add heat source side (pump/fan)"
   ]
  },
  {
   "cell_type": "code",
   "execution_count": null,
   "id": "1f62361d",
   "metadata": {},
   "outputs": [],
   "source": []
  },
  {
   "cell_type": "markdown",
   "id": "70623b8f",
   "metadata": {},
   "source": [
    "## Influence of heat source medium\n",
    "\n",
    "- Investigation of heat source medium on COP"
   ]
  },
  {
   "cell_type": "code",
   "execution_count": null,
   "id": "d00181bd",
   "metadata": {},
   "outputs": [],
   "source": []
  },
  {
   "cell_type": "markdown",
   "id": "3b95ca51",
   "metadata": {},
   "source": [
    "## Misc: Exergy analysis, ...\n",
    "\n",
    "- Run the exergy analysis\n",
    "- Create Grassmann Graph\n",
    "- ..."
   ]
  },
  {
   "cell_type": "code",
   "execution_count": null,
   "id": "e076446a",
   "metadata": {},
   "outputs": [],
   "source": [
    "import plotly.graph_objects as go\n",
    "\n",
    "fig = go.Figure(go.Sankey(\n",
    "    arrangement=\"snap\",\n",
    "    node={\n",
    "        \"label\": nodes,\n",
    "        'pad': 11,\n",
    "        'color': 'orange'},\n",
    "    link=links))\n",
    "fig.show()"
   ]
  }
 ],
 "metadata": {
  "kernelspec": {
   "display_name": "Python 3",
   "language": "python",
   "name": "python3"
  },
  "language_info": {
   "codemirror_mode": {
    "name": "ipython",
    "version": 3
   },
   "file_extension": ".py",
   "mimetype": "text/x-python",
   "name": "python",
   "nbconvert_exporter": "python",
   "pygments_lexer": "ipython3",
   "version": "3.8.0"
  }
 },
 "nbformat": 4,
 "nbformat_minor": 5
}
