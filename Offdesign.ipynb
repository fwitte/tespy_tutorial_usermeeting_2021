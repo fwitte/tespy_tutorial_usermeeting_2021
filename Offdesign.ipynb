{
 "cells": [
  {
   "cell_type": "markdown",
   "id": "0a584a3b",
   "metadata": {},
   "source": [
    "# TESPy Tutorial: offdesign performance prediction\n",
    "\n",
    "## The offdesign mode\n",
    "- How to switch modes\n",
    "- How to test offdesign setup"
   ]
  },
  {
   "cell_type": "code",
   "execution_count": null,
   "id": "49a36472",
   "metadata": {},
   "outputs": [],
   "source": []
  },
  {
   "cell_type": "markdown",
   "id": "ef92aadf",
   "metadata": {},
   "source": [
    "## Using your own characteristics\n",
    "\n",
    "- Specify characteristics curves for component parameters\n",
    "   - why do we need 1/1 cross?\n",
    "   - how to change to relative data?"
   ]
  },
  {
   "cell_type": "code",
   "execution_count": 2,
   "id": "f77392e1",
   "metadata": {},
   "outputs": [],
   "source": [
    "mass_flow_ratio = [0.1, 0.3, 0.5, 0.7, 0.9, 1.1]\n",
    "efficiency = [0.6, 0.65, 0.75, 0.82, 0.85, 0.79]"
   ]
  },
  {
   "cell_type": "markdown",
   "id": "7dcdb013",
   "metadata": {},
   "source": [
    "- Specification of generator/motor characteristics"
   ]
  },
  {
   "cell_type": "code",
   "execution_count": null,
   "id": "c5232e36",
   "metadata": {},
   "outputs": [],
   "source": [
    "x = np.array([0, 0.05, 0.1, 0.15, 0.2, 0.25, 0.3, 0.35, 0.4, 0.45, 0.5, 0.55,\n",
    "              0.6, 0.65, 0.7, 0.75, 0.8, 0.85, 0.9, 0.95, 1, 1.05, 1.1, 1.15,\n",
    "              1.2, 10])\n",
    "y = np.array([0.01, 0.3148, 0.5346, 0.6843, 0.7835, 0.8477, 0.8885, 0.9145,\n",
    "              0.9318, 0.9443, 0.9546, 0.9638, 0.9724, 0.9806, 0.9878, 0.9938,\n",
    "              0.9982, 1.0009, 1.002, 1.0015, 1, 0.9977, 0.9947, 0.9909, 0.9853,\n",
    "              0.9644]) * 0.97"
   ]
  },
  {
   "cell_type": "markdown",
   "id": "d17a1e98",
   "metadata": {},
   "source": [
    "- Generate characteristics from measurement data, e.g. isentropic efficiency of a turbine"
   ]
  },
  {
   "cell_type": "code",
   "execution_count": null,
   "id": "185ac8c4",
   "metadata": {},
   "outputs": [],
   "source": [
    "p_inl = [10, 12, 16, 20]\n",
    "p_outl = [1.05, 1.2, 1.5, 1.7]\n",
    "t_inl = [500, 490, 520, 520]\n",
    "t_outl = [220, 205, 214, 206]\n",
    "\n",
    "power = -1e6 * np.array([2.8, 3.1, 3.7, 4.4])"
   ]
  },
  {
   "cell_type": "markdown",
   "id": "642d44cf",
   "metadata": {},
   "source": [
    "- Generate characteristics from measurement data, e.g. kA of a heat district heating pipe"
   ]
  },
  {
   "cell_type": "code",
   "execution_count": null,
   "id": "63c54f26",
   "metadata": {},
   "outputs": [],
   "source": [
    "mass_flow = np.array([0.1, 0.3, 0.5, 0.7, 1.0, 2.0, 3.0]) * 1000\n",
    "outflow_temperature = np.array([118.75, 119.25, 119.4, 119.5, 119.63, 119.8, 119.85])"
   ]
  }
 ],
 "metadata": {
  "kernelspec": {
   "display_name": "Python 3",
   "language": "python",
   "name": "python3"
  },
  "language_info": {
   "codemirror_mode": {
    "name": "ipython",
    "version": 3
   },
   "file_extension": ".py",
   "mimetype": "text/x-python",
   "name": "python",
   "nbconvert_exporter": "python",
   "pygments_lexer": "ipython3",
   "version": "3.8.0"
  }
 },
 "nbformat": 4,
 "nbformat_minor": 5
}
